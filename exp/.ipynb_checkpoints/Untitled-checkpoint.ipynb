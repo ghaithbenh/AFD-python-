{
 "cells": [
  {
   "cell_type": "code",
   "execution_count": 1,
   "id": "d573154a",
   "metadata": {},
   "outputs": [],
   "source": [
    "#library manipulation et analyse de données\n",
    "import pandas as pd \n",
    "#library pour la représentation graphiques\n",
    "from matplotlib import pyplot as plt"
   ]
  },
  {
   "cell_type": "code",
   "execution_count": 2,
   "id": "d90b156b",
   "metadata": {},
   "outputs": [],
   "source": [
    "df = pd.read_excel(\"Genes_Cells.xlsx\")"
   ]
  },
  {
   "cell_type": "code",
   "execution_count": 4,
   "id": "941b5619",
   "metadata": {},
   "outputs": [
    {
     "data": {
      "text/html": [
       "<div>\n",
       "<style scoped>\n",
       "    .dataframe tbody tr th:only-of-type {\n",
       "        vertical-align: middle;\n",
       "    }\n",
       "\n",
       "    .dataframe tbody tr th {\n",
       "        vertical-align: top;\n",
       "    }\n",
       "\n",
       "    .dataframe thead th {\n",
       "        text-align: right;\n",
       "    }\n",
       "</style>\n",
       "<table border=\"1\" class=\"dataframe\">\n",
       "  <thead>\n",
       "    <tr style=\"text-align: right;\">\n",
       "      <th></th>\n",
       "      <th>Genes</th>\n",
       "      <th>CellA</th>\n",
       "      <th>CellB</th>\n",
       "      <th>CellC</th>\n",
       "      <th>CellD</th>\n",
       "    </tr>\n",
       "  </thead>\n",
       "  <tbody>\n",
       "    <tr>\n",
       "      <th>0</th>\n",
       "      <td>Gene_A</td>\n",
       "      <td>10.0</td>\n",
       "      <td>1.0</td>\n",
       "      <td>2</td>\n",
       "      <td>4</td>\n",
       "    </tr>\n",
       "    <tr>\n",
       "      <th>1</th>\n",
       "      <td>Gene_B</td>\n",
       "      <td>5.0</td>\n",
       "      <td>2.3</td>\n",
       "      <td>5</td>\n",
       "      <td>7</td>\n",
       "    </tr>\n",
       "    <tr>\n",
       "      <th>2</th>\n",
       "      <td>Gene_C</td>\n",
       "      <td>0.1</td>\n",
       "      <td>8.2</td>\n",
       "      <td>3</td>\n",
       "      <td>5</td>\n",
       "    </tr>\n",
       "    <tr>\n",
       "      <th>3</th>\n",
       "      <td>Gene_D</td>\n",
       "      <td>2.5</td>\n",
       "      <td>10.0</td>\n",
       "      <td>7</td>\n",
       "      <td>9</td>\n",
       "    </tr>\n",
       "    <tr>\n",
       "      <th>4</th>\n",
       "      <td>Gene_E</td>\n",
       "      <td>6.4</td>\n",
       "      <td>3.1</td>\n",
       "      <td>6</td>\n",
       "      <td>8</td>\n",
       "    </tr>\n",
       "    <tr>\n",
       "      <th>5</th>\n",
       "      <td>Gene_F</td>\n",
       "      <td>7.0</td>\n",
       "      <td>6.9</td>\n",
       "      <td>3</td>\n",
       "      <td>5</td>\n",
       "    </tr>\n",
       "    <tr>\n",
       "      <th>6</th>\n",
       "      <td>Gene_G</td>\n",
       "      <td>10.0</td>\n",
       "      <td>1.9</td>\n",
       "      <td>7</td>\n",
       "      <td>9</td>\n",
       "    </tr>\n",
       "  </tbody>\n",
       "</table>\n",
       "</div>"
      ],
      "text/plain": [
       "    Genes  CellA  CellB  CellC  CellD\n",
       "0  Gene_A   10.0    1.0      2      4\n",
       "1  Gene_B    5.0    2.3      5      7\n",
       "2  Gene_C    0.1    8.2      3      5\n",
       "3  Gene_D    2.5   10.0      7      9\n",
       "4  Gene_E    6.4    3.1      6      8\n",
       "5  Gene_F    7.0    6.9      3      5\n",
       "6  Gene_G   10.0    1.9      7      9"
      ]
     },
     "metadata": {},
     "output_type": "display_data"
    }
   ],
   "source": [
    "# displaying the DataFrame\n",
    "# fichier xlsx les lignes sont indexées (avantage sur csv)\n",
    "display(df)"
   ]
  },
  {
   "cell_type": "code",
   "execution_count": 6,
   "id": "82974641",
   "metadata": {},
   "outputs": [
    {
     "data": {
      "image/png": "[encoded data removed]",
      "text/plain": [
       "<Figure size 432x288 with 1 Axes>"
      ]
     },
     "metadata": {
      "needs_background": "light"
     },
     "output_type": "display_data"
    }
   ],
   "source": [
    "# X Les Variables \n",
    "# Y Les Individus\n",
    "#etude de 6_individus(I) sur 1_seul_variable(K)\n",
    "#K=1 representation axiale axe_des_X --> les variables\n",
    "x=df[\"Genes\"]\n",
    "#I=6 cas d'une seul individue axe_des_Y --> individue\n",
    "y=df[\"CellA\"]\n",
    "#plt.plot ne donne pas un resultat sous forme de nuage de point\n",
    "#scatter resultat sous forme de nuage de points \n",
    "plt.scatter(x,y,c='red')\n",
    "plt.ylabel(\"Cellule A\")\n",
    "plt.show()"
   ]
  },
  {
   "cell_type": "code",
   "execution_count": 7,
   "id": "027a20b6",
   "metadata": {},
   "outputs": [
    {
     "data": {
      "image/png": "[encoded data removed]",
      "text/plain": [
       "<Figure size 432x288 with 1 Axes>"
      ]
     },
     "metadata": {
      "needs_background": "light"
     },
     "output_type": "display_data"
    }
   ],
   "source": [
    "# X Les Variables K=2 (2_variables) \n",
    "# chaque point sur le graphique représente un individus\n",
    "\n",
    "# 1er Variable sur l'axe des X\n",
    "x=df[\"CellA\"]\n",
    "# 2eme Variable sur l'axe des Y\n",
    "y=df[\"CellB\"]\n",
    "plt.scatter(x,y,c=\"hotpink\")\n",
    "plt.xlabel(\"Cellule A\")\n",
    "plt.ylabel(\"Cellule B\")\n",
    "plt.legend([\"Genes\"])\n",
    "plt.show()"
   ]
  },
  {
   "cell_type": "code",
   "execution_count": 8,
   "id": "fbb9a530",
   "metadata": {
    "scrolled": true
   },
   "outputs": [
    {
     "data": {
      "image/png": "[encoded data removed]",
      "text/plain": [
       "<Figure size 460.8x252 with 1 Axes>"
      ]
     },
     "metadata": {
      "needs_background": "light"
     },
     "output_type": "display_data"
    }
   ],
   "source": [
    "#Visualisation en 3D \n",
    "#K<2 Recherche de la coorelation entre les variables\n",
    "#K>2 Recherche de la similitude ou differeence entre les individus\n",
    "#Les ancien libraries ne supporte pas 3Dimensions\n",
    "from mpl_toolkits.mplot3d import Axes3D #Fonction pour la 3D\n",
    "fig = plt.figure(figsize=(6.4,3.5))\n",
    "ax = fig.add_subplot(projection='3d')\n",
    "x=df[\"CellA\"]\n",
    "y=df[\"CellB\"]\n",
    "z=df[\"CellC\"]\n",
    "ax.scatter3D(x,y,z,c='red')\n",
    "ax.set_title(\"Genes En 3D\")\n",
    "ax.set_xlabel(\"Cellule A\")\n",
    "ax.set_ylabel(\"Cellule B\")\n",
    "ax.set_zlabel(\"Cellule C\")\n",
    "plt.show()"
   ]
  },
  {
   "cell_type": "code",
   "execution_count": null,
   "id": "0ad1904d",
   "metadata": {},
   "outputs": [],
   "source": []
  }
 ],
 "metadata": {
  "kernelspec": {
   "display_name": "Python 3 (ipykernel)",
   "language": "python",
   "name": "python3"
  },
  "language_info": {
   "codemirror_mode": {
    "name": "ipython",
    "version": 3
   },
   "file_extension": ".py",
   "mimetype": "text/x-python",
   "name": "python",
   "nbconvert_exporter": "python",
   "pygments_lexer": "ipython3",
   "version": "3.9.7"
  }
 },
 "nbformat": 4,
 "nbformat_minor": 5
}
